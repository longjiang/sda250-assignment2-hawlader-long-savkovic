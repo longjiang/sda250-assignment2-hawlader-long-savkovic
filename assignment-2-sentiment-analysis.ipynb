{
 "cells": [
  {
   "cell_type": "markdown",
   "id": "5fb56157",
   "metadata": {},
   "source": [
    "|   Name (Last, First)   |   Student ID   |   Section contributed                                          |   Section edited                                   |   Other contributions                                                      |\n",
    "|------------------------|----------------|----------------------------------------------------------------|----------------------------------------------------|----------------------------------------------------------------------------|\n",
    "|    Jiang Long          |    200099436   |   -  |   -                                     |   -  |\n",
    "|    Antanila H.         |    301332035   |   -         |   -   |   -     |\n",
    "|    Sava Savkovic       |    301397121   |   -                                |   -                                     |   -     |"
   ]
  },
  {
   "cell_type": "code",
   "execution_count": 12,
   "id": "b72e52e9",
   "metadata": {},
   "outputs": [
    {
     "name": "stdout",
     "output_type": "stream",
     "text": [
      "['rotten_tomatoes_link', 'critic_name', 'top_critic', 'publisher_name', 'review_type', 'review_score', 'review_date', 'review_content']\n",
      "['m/0814255', 'Andrew L. Urban', 'False', 'Urban Cinefile', 'Fresh', '', '2010-02-06', 'A fantasy adventure that fuses Greek mythology to contemporary American places and values. Anyone around 15 (give or take a couple of years) will thrill to the visual spectacle']\n",
      "['m/0814255', 'Louise Keller', 'False', 'Urban Cinefile', 'Fresh', '', '2010-02-06', 'Uma Thurman as Medusa, the gorgon with a coiffure of writhing snakes and stone-inducing hypnotic gaze is one of the highlights of this bewitching fantasy']\n",
      "['m/0814255', '', 'False', 'FILMINK (Australia)', 'Fresh', '', '2010-02-09', 'With a top-notch cast and dazzling special effects, this will tide the teens over until the next Harry Potter instalment.']\n",
      "['m/0814255', 'Ben McEachen', 'False', 'Sunday Mail (Australia)', 'Fresh', '3.5/5', '2010-02-09', \"Whether audiences will get behind The Lightning Thief is hard to predict. Overall, it's an entertaining introduction to a promising new world -- but will the consuming shadow of Potter be too big to break free of?\"]\n",
      "['m/0814255', 'Ethan Alter', 'True', 'Hollywood Reporter', 'Rotten', '', '2010-02-10', \"What's really lacking in The Lightning Thief is a genuine sense of wonder, the same thing that brings viewers back to Hogwarts over and over again.\"]\n",
      "['m/0814255', 'David Germain', 'True', 'Associated Press', 'Rotten', '', '2010-02-10', \"It's more a list of ingredients than a movie-magic potion to enjoy from start to finish.\"]\n",
      "['m/0814255', 'Nick Schager', 'False', 'Slant Magazine', 'Rotten', '1/4', '2010-02-10', \"Harry Potter knockoffs don't come more transparent and slapdash than this wannabe-franchise jumpstarter directed by Chris Columbus.\"]\n",
      "['m/0814255', 'Bill Goodykoontz', 'True', 'Arizona Republic', 'Fresh', '3.5/5', '2010-02-10', \"Percy Jackson isn't a great movie, but it's a good one, trotting out kernels of Greek mythology like so many Disney Channel references.\"]\n",
      "['m/0814255', 'Jordan Hoffman', 'False', 'UGO', 'Fresh', 'B', '2010-02-10', 'Fun, brisk and imaginative']\n"
     ]
    }
   ],
   "source": [
    "import csv\n",
    "import itertools\n",
    "\n",
    "# The dataset is from https://www.kaggle.com/stefanoleone992/rotten-tomatoes-movies-and-critic-reviews-dataset\n",
    "file_path = 'rotten-tomatoes-movies-and-critic-reviews-dataset/rotten_tomatoes_critic_reviews.csv'\n",
    "\n",
    "f = open(file_path, encoding='UTF8')\n",
    "csv_reader = csv.reader(f)\n",
    "\n",
    "# Show first 10 reviews\n",
    "for line in itertools.islice(csv_reader, 0, 10):\n",
    "    print(line)"
   ]
  },
  {
   "cell_type": "code",
   "execution_count": null,
   "id": "c29c9407",
   "metadata": {},
   "outputs": [],
   "source": []
  }
 ],
 "metadata": {
  "kernelspec": {
   "display_name": "Python 3 (ipykernel)",
   "language": "python",
   "name": "python3"
  },
  "language_info": {
   "codemirror_mode": {
    "name": "ipython",
    "version": 3
   },
   "file_extension": ".py",
   "mimetype": "text/x-python",
   "name": "python",
   "nbconvert_exporter": "python",
   "pygments_lexer": "ipython3",
   "version": "3.9.7"
  }
 },
 "nbformat": 4,
 "nbformat_minor": 5
}
