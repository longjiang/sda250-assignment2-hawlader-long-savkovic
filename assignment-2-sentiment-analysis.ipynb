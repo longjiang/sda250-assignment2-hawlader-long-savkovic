{
 "cells": [
  {
   "cell_type": "markdown",
   "id": "5fb56157",
   "metadata": {},
   "source": [
    "|   Name (Last, First)   |   Student ID   |   Section contributed                                          |   Section edited                                   |   Other contributions                                                      |\n",
    "|------------------------|----------------|----------------------------------------------------------------|----------------------------------------------------|----------------------------------------------------------------------------|\n",
    "|    Jiang Long          |    200099436   |   -  |   -                                     |   -  |\n",
    "|    Antanila H.         |    301332035   |   -         |   -   |   -     |\n",
    "|    Sava Savkovic       |    301397121   |   -                                |   -                                     |   -     |"
   ]
  },
  {
   "cell_type": "code",
   "execution_count": null,
   "id": "0e212ce4",
   "metadata": {},
   "outputs": [],
   "source": []
  }
 ],
 "metadata": {
  "kernelspec": {
   "display_name": "Python 3 (ipykernel)",
   "language": "python",
   "name": "python3"
  },
  "language_info": {
   "codemirror_mode": {
    "name": "ipython",
    "version": 3
   },
   "file_extension": ".py",
   "mimetype": "text/x-python",
   "name": "python",
   "nbconvert_exporter": "python",
   "pygments_lexer": "ipython3",
   "version": "3.9.7"
  }
 },
 "nbformat": 4,
 "nbformat_minor": 5
}
